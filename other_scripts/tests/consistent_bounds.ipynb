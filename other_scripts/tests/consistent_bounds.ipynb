{
 "cells": [
  {
   "cell_type": "markdown",
   "metadata": {},
   "source": [
    "# `precip-dot` data test `02`:\n",
    "## Consistent confidence bounds in final data\n",
    "\n",
    "Verify that the confidence bounds in the final data (product of warped deltas Atlas 14 data) are consistent.\n",
    "\n",
    "### inputs\n",
    "\n",
    "The path to the directory containing the \"combined\" data to test needs to be specified in the `UNDIFF_DIR` env var prior to running this notebook. Current value for `UNDIFF_DIR`:"
   ]
  },
  {
   "cell_type": "code",
   "execution_count": null,
   "metadata": {},
   "outputs": [],
   "source": [
    "!echo $UNDIFF_DIR"
   ]
  },
  {
   "cell_type": "code",
   "execution_count": 70,
   "metadata": {},
   "outputs": [],
   "source": [
    "def test_data_file(args):\n",
    "    \"\"\"\n",
    "    Read and test consistency of conf bounds/estimates\n",
    "    \"\"\"\n",
    "    fp = args[0]\n",
    "    valid_idx = args[1]\n",
    "    ds = xr.open_dataset(fp)\n",
    "    arrs = np.array(\n",
    "        [\n",
    "            ds[var].values[:,valid_idx[:,0],valid_idx[:,1]]\n",
    "            for var in [\"pf-lower\", \"pf\", \"pf-upper\"]\n",
    "        ]\n",
    "    )\n",
    "    ds.close()\n",
    "    result = np.all(arrs[0,:,:] < arrs[1,:,:]) and np.all(arrs[1,:,:] < arrs[2,:,:])\n",
    "    return result\n",
    "\n",
    "\n",
    "def run_test(data_dir):\n",
    "    \"\"\"\n",
    "    Run test on output data directory\n",
    "    \"\"\"\n",
    "    print(\"Beginning test of consistent confidence bounds in final data.\\n\")\n",
    "    # durations to read\n",
    "    durations = [\n",
    "        \"60m\",\n",
    "        \"2h\",\n",
    "        \"3h\",\n",
    "        \"6h\",\n",
    "        \"12h\",\n",
    "        \"24h\",\n",
    "        \"2d\",\n",
    "        \"3d\",\n",
    "        \"4d\",\n",
    "        \"7d\",\n",
    "        \"10d\",\n",
    "        \"20d\",\n",
    "        \"30d\",\n",
    "        \"45d\",\n",
    "        \"60d\",\n",
    "    ]\n",
    "\n",
    "    # template path\n",
    "    data_fp = os.path.join(data_dir, \"pcpt_{}_sum_wrf_{}_{}_undiff.nc\")\n",
    "\n",
    "    # test all locations for each future period\n",
    "    gcms = [\"GFDL-CM3\", \"NCAR-CCSM4\"]\n",
    "    periods = [\"2020-2049\", \"2050-2079\", \"2080-2099\"]\n",
    "    results = []\n",
    "    for gcm in gcms:\n",
    "        \n",
    "        # get valid xy indices \n",
    "        ds = xr.open_dataset(data_fp.format(gcm, \"60m\", \"2020-2049\"))\n",
    "        arr = ds[\"pf\"].values[0,:,:]\n",
    "        ds.close()\n",
    "        valid_idx = np.argwhere(~np.isnan(arr))\n",
    "        \n",
    "        for period in periods:\n",
    "            # construct args for reading data in parallel\n",
    "            args = [\n",
    "                (data_fp.format(gcm, duration, period), valid_idx)\n",
    "                for duration in durations\n",
    "            ]\n",
    "\n",
    "            print(\"Reading/testing data for {}, {}\".format(gcm, period))\n",
    "            # read from each duration in parallel\n",
    "            p = Pool(15)\n",
    "            out = p.map(test_data_file, args)\n",
    "            p.close()\n",
    "            p.join()\n",
    "\n",
    "            results.append(np.all(out))\n",
    "            print(\"{}, {} complete\\n\".format(gcm, period))\n",
    "\n",
    "    final_result = np.all(results)\n",
    "    # print results\n",
    "    if final_result:\n",
    "        print(\"\\nTest result: PASS\")\n",
    "        print(\"No inconsistencies in estimates found.\\n\")\n",
    "    else:\n",
    "        print(\"\\nTest result: FAIL\\n\")\n"
   ]
  },
  {
   "cell_type": "code",
   "execution_count": null,
   "metadata": {},
   "outputs": [],
   "source": []
  },
  {
   "cell_type": "code",
   "execution_count": 71,
   "metadata": {},
   "outputs": [
    {
     "name": "stdout",
     "output_type": "stream",
     "text": [
      "Beginning test of consistent confidence bounds in final data.\n",
      "\n",
      "Reading/testing data for GFDL-CM3, 2020-2049\n",
      "GFDL-CM3, 2020-2049 complete\n",
      "\n",
      "Reading/testing data for GFDL-CM3, 2050-2079\n",
      "GFDL-CM3, 2050-2079 complete\n",
      "\n",
      "Reading/testing data for GFDL-CM3, 2080-2099\n",
      "GFDL-CM3, 2080-2099 complete\n",
      "\n",
      "Reading/testing data for NCAR-CCSM4, 2020-2049\n",
      "NCAR-CCSM4, 2020-2049 complete\n",
      "\n",
      "Reading/testing data for NCAR-CCSM4, 2050-2079\n",
      "NCAR-CCSM4, 2050-2079 complete\n",
      "\n",
      "Reading/testing data for NCAR-CCSM4, 2080-2099\n",
      "NCAR-CCSM4, 2080-2099 complete\n",
      "\n",
      "\n",
      "Test result: PASS\n",
      "No inconsistencies in estimates found.\n",
      "\n",
      "Elapsed time: 3.5 m\n",
      "\n",
      "Completion time of previous test: 2020-10-07 22:51:16\n"
     ]
    }
   ],
   "source": [
    "import os, time, datetime\n",
    "import numpy as np\n",
    "import xarray as xr\n",
    "from multiprocessing import Pool\n",
    "\n",
    "data_dir = os.getenv(\"UNDIFF_DIR\")\n",
    "\n",
    "tic = time.perf_counter()\n",
    "\n",
    "_ = run_test(data_dir)\n",
    "\n",
    "print(\"Elapsed time: {} m\\n\".format(round((time.perf_counter() - tic) / 60, 1)))\n",
    "\n",
    "utc_time = datetime.datetime.utcnow()\n",
    "print(\"Completion time of previous test: {}\".format(utc_time.strftime(\"%Y-%m-%d %H:%M:%S\")))"
   ]
  },
  {
   "cell_type": "code",
   "execution_count": 8,
   "metadata": {},
   "outputs": [
    {
     "data": {
      "text/plain": [
       "True"
      ]
     },
     "execution_count": 8,
     "metadata": {},
     "output_type": "execute_result"
    }
   ],
   "source": [
    "np.all(np.array([4, 8]) < np.array([5, 9]))"
   ]
  },
  {
   "cell_type": "code",
   "execution_count": null,
   "metadata": {},
   "outputs": [],
   "source": []
  },
  {
   "cell_type": "code",
   "execution_count": 62,
   "metadata": {},
   "outputs": [],
   "source": [
    "data_fp = os.path.join(data_dir, \"pcpt_{}_sum_wrf_{}_{}_undiff.nc\".format(\"GFDL-CM3\", \"3d\", \"2020-2049\"))\n",
    "ds = xr.open_dataset(data_fp)\n",
    "arr = ds[\"pf\"].values[0,:,:]\n",
    "ds.close()\n",
    "valid_idx = np.argwhere(~np.isnan(arr))\n",
    "arrs = test_data_file((data_fp, valid_idx))"
   ]
  },
  {
   "cell_type": "code",
   "execution_count": 66,
   "metadata": {},
   "outputs": [
    {
     "data": {
      "text/plain": [
       "[True, True, True, True, True, True, True, True, True]"
      ]
     },
     "execution_count": 66,
     "metadata": {},
     "output_type": "execute_result"
    }
   ],
   "source": [
    "[np.all(arrs[0,i,:] < arrs[1,i,:]) for i in np.arange(9)]"
   ]
  },
  {
   "cell_type": "code",
   "execution_count": 19,
   "metadata": {},
   "outputs": [],
   "source": [
    "new_arrs = np.array([arrs[:,:,idx[0],idx[1]] for idx in np.argwhere(~np.isnan(arrs[0,0,:,:]))])"
   ]
  },
  {
   "cell_type": "code",
   "execution_count": 22,
   "metadata": {},
   "outputs": [
    {
     "data": {
      "text/plain": [
       "array([[ 628.1871 ,  872.6227 , 1044.781  , 1278.5768 , 1464.5328 ,\n",
       "        1664.5955 , 1938.1743 , 2302.4766 , 2579.7769 ],\n",
       "       [ 730.92865, 1035.2222 , 1277.0126 , 1637.8395 , 1953.5872 ,\n",
       "        2311.8633 , 2767.8718 , 3401.4934 , 3905.7644 ],\n",
       "       [ 852.13763, 1216.2963 , 1537.0057 , 2095.14   , 2661.015  ,\n",
       "        3391.0168 , 4360.015  , 5949.0825 , 7435.9424 ]], dtype=float32)"
      ]
     },
     "execution_count": 22,
     "metadata": {},
     "output_type": "execute_result"
    }
   ],
   "source": [
    "new_arrs[0]"
   ]
  },
  {
   "cell_type": "code",
   "execution_count": 26,
   "metadata": {},
   "outputs": [],
   "source": [
    "idx = [[0,2], [0,3]]"
   ]
  },
  {
   "cell_type": "code",
   "execution_count": 30,
   "metadata": {},
   "outputs": [],
   "source": [
    "x = np.arange(24).reshape(2,3,4)"
   ]
  },
  {
   "cell_type": "code",
   "execution_count": 50,
   "metadata": {},
   "outputs": [
    {
     "data": {
      "text/plain": [
       "array([[ 5,  6, 10],\n",
       "       [17, 18, 22]])"
      ]
     },
     "execution_count": 50,
     "metadata": {},
     "output_type": "execute_result"
    }
   ],
   "source": [
    "i = np.array([1,1,2])\n",
    "j = np.array([1,2,2])\n",
    "x[:,i,j]"
   ]
  },
  {
   "cell_type": "code",
   "execution_count": 57,
   "metadata": {},
   "outputs": [],
   "source": [
    "valid_idx = np.argwhere(x[0,:,:] >5 )"
   ]
  },
  {
   "cell_type": "code",
   "execution_count": 58,
   "metadata": {},
   "outputs": [
    {
     "data": {
      "text/plain": [
       "array([[ 6,  7,  8,  9, 10, 11],\n",
       "       [18, 19, 20, 21, 22, 23]])"
      ]
     },
     "execution_count": 58,
     "metadata": {},
     "output_type": "execute_result"
    }
   ],
   "source": [
    "x[:, valid_idx[:,0], valid_idx[:,1]]"
   ]
  },
  {
   "cell_type": "code",
   "execution_count": 59,
   "metadata": {},
   "outputs": [
    {
     "data": {
      "text/plain": [
       "array([[[ 0,  1,  2,  3],\n",
       "        [ 4,  5,  6,  7],\n",
       "        [ 8,  9, 10, 11]],\n",
       "\n",
       "       [[12, 13, 14, 15],\n",
       "        [16, 17, 18, 19],\n",
       "        [20, 21, 22, 23]]])"
      ]
     },
     "execution_count": 59,
     "metadata": {},
     "output_type": "execute_result"
    }
   ],
   "source": [
    "x"
   ]
  },
  {
   "cell_type": "code",
   "execution_count": null,
   "metadata": {},
   "outputs": [],
   "source": []
  }
 ],
 "metadata": {
  "kernelspec": {
   "display_name": "Python 3",
   "language": "python",
   "name": "python3"
  },
  "language_info": {
   "codemirror_mode": {
    "name": "ipython",
    "version": 3
   },
   "file_extension": ".py",
   "mimetype": "text/x-python",
   "name": "python",
   "nbconvert_exporter": "python",
   "pygments_lexer": "ipython3",
   "version": "3.6.5"
  }
 },
 "nbformat": 4,
 "nbformat_minor": 4
}
