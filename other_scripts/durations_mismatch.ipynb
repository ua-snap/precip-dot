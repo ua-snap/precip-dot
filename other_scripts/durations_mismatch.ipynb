{
 "cells": [
  {
   "cell_type": "markdown",
   "metadata": {},
   "source": [
    "The purpose of this notebook is to explore a mismatch between \"durations\" values which I calculate and those calculated from the pipeline. I expected that data queried from the GFDL-CM3 historical (1970) WRF precip data and summed over 4day periods should be equal to the data produced from the \"durations\" step in the pipeline, saved in `/workspace/Shared/Tech_Projects/DOT/project_data/durations/pcpt_4d_sum_wrf_GFDL-CM3_historical.nc`. This notebook exposes that mismatch. "
   ]
  },
  {
   "cell_type": "code",
   "execution_count": 1,
   "metadata": {},
   "outputs": [
    {
     "name": "stderr",
     "output_type": "stream",
     "text": [
      "/home/UA/kmredilla/.localpython/lib/python3.6/site-packages/pandas/compat/__init__.py:117: UserWarning: Could not import the lzma module. Your installed Python is incomplete. Attempting to use lzma compression will result in a RuntimeError.\n",
      "  warnings.warn(msg)\n"
     ]
    }
   ],
   "source": [
    "import os, time\n",
    "import numpy as np\n",
    "import pandas\n",
    "import xarray as xr\n",
    "from pyproj import Transformer\n",
    "\n",
    "# directories\n",
    "data_dir = \"/workspace/Shared/Tech_Projects/DOT/project_data\"\n",
    "wrf_dir = os.path.join(data_dir, \"wrf_pcpt\")\n",
    "wrf_fp = os.path.join(wrf_dir, \"pcpt\", \"pcpt_hourly_wrf_GFDL-CM3_{}_{}.nc\")\n",
    "\n",
    "# Point of Interest - WGS84 coordinates from example of invalid bounds\n",
    "wgs84_coords = (-147.96, 64.66)\n",
    "# WRF CRS\n",
    "wrf_crs = '+units=m +proj=stere +lat_ts=64.0 +lon_0=-152.0 +lat_0=90.0 +x_0=0 +y_0=0 +a=6370000 +b=6370000'\n",
    "transformer = Transformer.from_proj(\"EPSG:4326\", wrf_crs, always_xy=True)\n",
    "# WGS84 coordinates transformed to WRF CRS\n",
    "wrf_coords = transformer.transform(*wgs84_coords)\n",
    "\n",
    "# open durations file, query at POI\n",
    "dur_ds = xr.open_dataset(os.path.join(wrf_dir, \"durations\", \"pcpt_4d_sum_wrf_GFDL-CM3_historical.nc\"))\n",
    "dur_sel_da = dur_ds.sel(xc=wrf_coords[0], yc=wrf_coords[1], method=\"nearest\")\n",
    "pcpt_sum_dur = dur_sel_da.pcpt.values\n",
    "\n",
    "# open raw WRF file, bin by 4d period and sum\n",
    "raw_ds = xr.open_dataset(wrf_fp.format(\"historical\", \"1970\"))\n",
    "raw_sel = raw_ds.sel(xc=wrf_coords[0], yc=wrf_coords[1], method=\"nearest\")\n",
    "pcpt_sum_raw_da = raw_sel.resample(time=\"4D\").sum()\n",
    "pcpt_sum_raw = pcpt_sum_raw_da.pcpt.values"
   ]
  },
  {
   "cell_type": "markdown",
   "metadata": {},
   "source": [
    "time periods and coordinates match:\n",
    "\n",
    "#### durations data:"
   ]
  },
  {
   "cell_type": "code",
   "execution_count": 2,
   "metadata": {},
   "outputs": [
    {
     "name": "stdout",
     "output_type": "stream",
     "text": [
      "time sample: ['1970-01-02T00:00:00.000000000' '1970-01-06T00:00:00.000000000'\n",
      " '1970-01-10T00:00:00.000000000' '1970-01-14T00:00:00.000000000'\n",
      " '1970-01-18T00:00:00.000000000']\n",
      "xc, yc: 190000.0 , -2702425.477371664\n"
     ]
    }
   ],
   "source": [
    "print(\"time sample:\", dur_sel_da.time.values[:5])\n",
    "print(\"xc, yc:\", dur_sel_da.xc.values, \",\", dur_sel_da.yc.values)"
   ]
  },
  {
   "cell_type": "markdown",
   "metadata": {},
   "source": [
    "#### calculated data:"
   ]
  },
  {
   "cell_type": "code",
   "execution_count": 3,
   "metadata": {
    "scrolled": true
   },
   "outputs": [
    {
     "name": "stdout",
     "output_type": "stream",
     "text": [
      "time sample: ['1970-01-02T00:00:00.000000000' '1970-01-06T00:00:00.000000000'\n",
      " '1970-01-10T00:00:00.000000000' '1970-01-14T00:00:00.000000000'\n",
      " '1970-01-18T00:00:00.000000000']\n",
      "xc, yc: 190000.0 , -2702425.477371664\n"
     ]
    }
   ],
   "source": [
    "print(\"time sample:\", pcpt_sum_raw_da.time.values[:5])\n",
    "print(\"xc, yc:\", pcpt_sum_raw_da.xc.values, \",\", pcpt_sum_raw_da.yc.values)"
   ]
  },
  {
   "cell_type": "markdown",
   "metadata": {},
   "source": [
    "but these data don't match:"
   ]
  },
  {
   "cell_type": "code",
   "execution_count": 4,
   "metadata": {
    "scrolled": true
   },
   "outputs": [
    {
     "name": "stdout",
     "output_type": "stream",
     "text": [
      "Sample of precip sums from pipeline: [ 3.782     12.1015     5.26      17.661499   0.9404998]\n",
      "Sample of precip sums calculated from raw WRF: [ 3.278      7.8299994 10.0355     6.111     11.969    ]\n"
     ]
    }
   ],
   "source": [
    "print(\"Sample of precip sums from pipeline:\", pcpt_sum_dur[:5])\n",
    "print(\"Sample of precip sums calculated from raw WRF:\", pcpt_sum_raw[:5])"
   ]
  },
  {
   "cell_type": "code",
   "execution_count": null,
   "metadata": {},
   "outputs": [],
   "source": []
  }
 ],
 "metadata": {
  "kernelspec": {
   "display_name": "Python 3",
   "language": "python",
   "name": "python3"
  },
  "language_info": {
   "codemirror_mode": {
    "name": "ipython",
    "version": 3
   },
   "file_extension": ".py",
   "mimetype": "text/x-python",
   "name": "python",
   "nbconvert_exporter": "python",
   "pygments_lexer": "ipython3",
   "version": "3.6.5"
  }
 },
 "nbformat": 4,
 "nbformat_minor": 4
}
