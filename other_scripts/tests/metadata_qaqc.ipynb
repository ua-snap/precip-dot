{
 "cells": [
  {
   "cell_type": "markdown",
   "metadata": {},
   "source": [
    "# Metadata, QA, QC\n",
    "\n",
    "The purpose of this notebook is for ensuring the `precip-dot` dataset meets SNAPs standards for metadata, quality assurance, and quality control. "
   ]
  },
  {
   "cell_type": "code",
   "execution_count": 2,
   "metadata": {},
   "outputs": [],
   "source": [
    "import glob, os\n",
    "import numpy as np\n",
    "import rasterio as rio\n",
    "import xarray as xr\n",
    "from datetime import datetime\n",
    "from rasterio import warp"
   ]
  },
  {
   "cell_type": "markdown",
   "metadata": {},
   "source": [
    "# Metadata questionnaire\n",
    "\n",
    "Timestamp:"
   ]
  },
  {
   "cell_type": "code",
   "execution_count": 3,
   "metadata": {},
   "outputs": [
    {
     "name": "stdout",
     "output_type": "stream",
     "text": [
      "Created on: 2021-01-08 19:12:27\n"
     ]
    }
   ],
   "source": [
    "print(\"Created on: {}\".format(datetime.utcnow().strftime(\"%Y-%m-%d %H:%M:%S\")))"
   ]
  },
  {
   "cell_type": "markdown",
   "metadata": {},
   "source": [
    "## Time & place\n",
    "\n",
    "#### Description of Geographic Extent\n",
    "\n",
    "All data files contain gridded data making use of the same grid, which covers Alaska and some of the surrounding region."
   ]
  },
  {
   "cell_type": "code",
   "execution_count": 20,
   "metadata": {},
   "outputs": [],
   "source": [
    "# determine approximate grid dimensions\n",
    "out_dir = \"/workspace/Shared/Tech_Projects/DOT/project_data/wrf_pcpt/fudgeci\"\n",
    "out_fps = [\n",
    "    os.path.join(out_dir, fn) \n",
    "    for fn in sorted(glob.glob(os.path.join(out_dir, \"*\")))\n",
    "]\n",
    "\n",
    "with rio.open(f\"netcdf:{out_fps[0]}:pf\") as src:\n",
    "    width, height = src.width, src.height\n",
    "    bb = warp.transform_bounds(\n",
    "        src.crs, \n",
    "        rio.crs.CRS.from_epsg(4326),\n",
    "        *src.bounds\n",
    "    )\n",
    "    xres, yres = src.res\n",
    "    meta = src.meta"
   ]
  },
  {
   "cell_type": "markdown",
   "metadata": {},
   "source": [
    "#### Place keywords\n",
    "\n",
    "Alaska, polar\n",
    "\n",
    "#### Bounding coordinates: \n",
    "\n",
    "INCORRECT, NEEDS TO BE FIXED ([this link could help](https://gis.stackexchange.com/questions/301729/get-a-bounding-box-of-a-geometry-that-crosses-the-antimeridian-using-ogr))\n",
    "\n",
    "see cell below for some investigation"
   ]
  },
  {
   "cell_type": "code",
   "execution_count": 11,
   "metadata": {},
   "outputs": [
    {
     "name": "stdout",
     "output_type": "stream",
     "text": [
      "Western bound: -178.1631\n",
      "Southern bound: 49.0572\n",
      "Eastern bound: 179.8282\n",
      "Northern bound: 71.4604\n"
     ]
    }
   ],
   "source": [
    "print(\"Western bound:\", round(bb[0], 4))\n",
    "print(\"Southern bound:\", round(bb[1], 4))\n",
    "print(\"Eastern bound:\", round(bb[2], 4))\n",
    "print(\"Northern bound:\", round(bb[3], 4))"
   ]
  },
  {
   "cell_type": "code",
   "execution_count": 81,
   "metadata": {},
   "outputs": [
    {
     "name": "stdout",
     "output_type": "stream",
     "text": [
      "Western bound: 179.99908447265625\n",
      "Southern bound: 37.23276901245117\n",
      "Eastern bound: -65.9981689453125\n",
      "Northern bound: 88.26934051513672\n"
     ]
    }
   ],
   "source": [
    "# This code demonstrates that the transform_bounds method cannot be used here because \n",
    "# of overlap with the antimeridian. \n",
    "\n",
    "# This code returns the WGS84 transform of coorindates at various parts of the extent of the projected CRS\n",
    "\n",
    "wrf_proj = \"+proj=stere +lat_0=90 +lat_ts=64 +lon_0=-152 +k=1 +x_0=0 +y_0=0 +a=6370000 +b=6370000 +units=m +no_defs\"\n",
    "src_crs = rio.crs.CRS.from_string(wrf_proj)\n",
    "dst_crs = rio.crs.CRS.from_epsg(4326)\n",
    "\n",
    "# upper left\n",
    "warp.transform(src_crs, dst_crs, [0], [bounds[3]])\n",
    "# lower left\n",
    "warp.transform(src_crs, dst_crs, [bounds[0]], [bounds[1]])\n",
    "# lower right\n",
    "warp.transform(src_crs, dst_crs, [bounds[2]], [bounds[1]])\n",
    "# upper right\n",
    "warp.transform(src_crs, dst_crs, [bounds[2]], [bounds[3]])\n",
    "# upper middle\n",
    "warp.transform(src_crs, dst_crs, [0], [bounds[3]])\n",
    "# lower middle\n",
    "warp.transform(src_crs, dst_crs, [0], [bounds[1]])\n",
    "\n",
    "\n",
    "# below provides the extent of the underlying WRF grid\n",
    "# THESE ARE THE CORRECT BOUNDS, BUT NOT DERIVED FROM FINAL DATA\n",
    "wrf_fp = \"/workspace/Shared/Tech_Projects/wrf_data/project_data/wind-issue/truth_winds_1980-01-01_00.nc\"\n",
    "\n",
    "with xr.open_dataset(wrf_fp) as ds:\n",
    "    lons = ds.lon.values\n",
    "    lats = ds.lat.values\n",
    "\n",
    "# Western extent is past antimeridian (180)\n",
    "print(f\"Western bound: {lons.max()}\")\n",
    "print(f\"Southern bound: {lats.min()}\")\n",
    "print(f\"Eastern bound: {lons[lons < 0].max()}\")\n",
    "print(f\"Northern bound: {lats.max()}\")"
   ]
  },
  {
   "cell_type": "markdown",
   "metadata": {},
   "source": [
    "Grid:"
   ]
  },
  {
   "cell_type": "code",
   "execution_count": 19,
   "metadata": {},
   "outputs": [
    {
     "name": "stdout",
     "output_type": "stream",
     "text": [
      "Resolution: 482 m\n",
      "Width: 7639, Height: 4110\n"
     ]
    }
   ],
   "source": [
    "print(f\"Resolution: {round(xres)} m\")\n",
    "print(f\"Width: {width}, Height: {height}\")"
   ]
  },
  {
   "cell_type": "code",
   "execution_count": 92,
   "metadata": {},
   "outputs": [],
   "source": [
    "import os, glob, datetime\n",
    "import numpy as np\n",
    "import pandas as pd\n",
    "import rasterio as rio\n",
    "import xarray as xr\n",
    "from osgeo import gdal\n",
    "from rasterio.crs import CRS\n",
    "from rasterio.plot import show\n",
    "from rasterio.warp import transform_bounds"
   ]
  },
  {
   "cell_type": "markdown",
   "metadata": {},
   "source": [
    "#### Time period\n",
    "\n",
    "Data are not strictly temporally referenced. Instead, they represent probabilistic representations of projections for three future time periods: 2020-2049, 2050-2079, and 2080-2099."
   ]
  },
  {
   "cell_type": "markdown",
   "metadata": {},
   "source": [
    "## Origins\n",
    "\n",
    "### Info\n",
    "\n",
    "#### Who created the data? \n",
    "Cameron Tauxe (Neptune, Inc); Bob Torgerson, Kyle Redilla (SNAP)\n",
    "\n",
    "#### Who owns the data?\n",
    "Alaska Department of Transportation (AK DOT)\n",
    "\n",
    "#### Email\n",
    "rltorgerson@alaska.edu\n",
    "\n",
    "#### Address\n",
    "2158 Koyukuk St, Fairbanks, AK 99709\n",
    "\n",
    "### Credit\n",
    "\n",
    "#### Other organizations who should get credit?\n",
    "Underlying data development led by Peter Bieniek with CASC support"
   ]
  },
  {
   "cell_type": "markdown",
   "metadata": {},
   "source": [
    "## About\n",
    "\n",
    "#### Abstract\n",
    "\n",
    "Annual maximum series-based precipitation frequency estimates with 90% confidence intervals for Alaska derived from WRF-downscaled reanlaysis (ERA-Interim) and CMIP5 GCM (GFDL-CM3, NCAR-CCSM4) precipitation data. Estimates and confidence intervals are based on exceedance probabilities and durations used in the NOAA Atlas 14 study. Projections are present for three future time periods: 2020-2049, 2050-2079, and 2080-2099.\n",
    "\n",
    "#### Keywords\n",
    "\n",
    "Alaska, WRF, GFDL-CM3, NCAR-CCSM4, precipitation, projections\n",
    "\n",
    "#### Purpose\n",
    "\n",
    "Developed for the Alaska Department of Transportation to inform infrastructure planning.\n",
    "\n",
    "#### File format\n",
    "\n",
    "NetCDF\n",
    "\n",
    "#### License\n",
    "\n",
    "These data are not currently available for public use. \n",
    "\n",
    "#### Cross reference\n",
    "\n",
    "TBD"
   ]
  },
  {
   "cell_type": "markdown",
   "metadata": {},
   "source": [
    "## Methods\n",
    "\n",
    "#### Protocols / methods used\n",
    "\n",
    "The methods used for developing estimates are closely based upon Perica et al. 2012. A \"delta method\" (Villegas and Jarvis, 2010) was used to downscale the projected changes and estimates to the finer resolution grid used in the NOAA Atlas 14 study. \n",
    "\n",
    "#### Analytical tools\n",
    "\n",
    "The codebase for developing these data is written in Python and it makes use of popular statistical and geospatial packages and libraries. \n",
    "\n",
    "#### References\n",
    "\n",
    "Villegas, J.R. and Jarvis, A. (2010) Downscaling Global Circulation Model Outputs: The Delta Method. Decision and Policy Analysis Working Paper No. 1, Centro Internacional de Agricultura Tropical.\n",
    "\n",
    "Sanja Perica, Douglas Kane, Sarah Dietz, Kazungu Maitaria, Deborah Martin, Sandra Pavlovic, Ishani Roy, Svetlana Stuefer, Amy Tidwell, Carl Trypaluk, Dale Unruh, Michael Yekta, Erica Betts, Geoffrey Bonnin, Sarah Heim, Lillian Hiner, Elizabeth Lilly, Jayashree Narayanan, Fenglin Yan, Tan Zhao (2012). NOAA Atlas 14 Volume 7 Version 2.0, Precipitation-Frequency Atlas of the United States, Alaska. NOAA, National Weather Service, Silver Spring, MD.\n",
    "\n",
    "#### Processing steps\n",
    "\n",
    "The complete data processing is done by the code in the `pipeline/` directory of this repository: https://github.com/ua-snap/precip-dot. A high-level overview of the processing steps is given in the README.\n",
    "\n",
    "#### Base data\n",
    "\n",
    "Downscaled GCM and Reanalysis data made available by SNAP: http://ckan.snap.uaf.edu/dataset/historical-and-projected-dynamically-downscaled-climate-data-for-the-state-of-alaska-and-surrou\n",
    "\n",
    "NOAA Atlas 14 data made available by NOAA: https://hdsc.nws.noaa.gov/hdsc/pfds/pfds_map_ak.html"
   ]
  },
  {
   "cell_type": "markdown",
   "metadata": {},
   "source": [
    "## Data\n",
    "\n",
    "#### Entity\n",
    "\n",
    "The NetCDF data files are all structured identically. Each have three dimensions and three data variables. The data variables are \"pf\", \"pf_upper\", and \"pf_lower\", corresponding to the precipitation estimate, upper, and lower bounds of 90% confidence intervals, respectively. The duration and GCM source of the underlying data being represneted is given in the filename.\n",
    "\n",
    "The coordinate variables (and dimension names) are \"xc\", \"yc\", and \"interval\". These variables correspond to the x and y coordinate in EPSG:3338, and the reciprocal of the annual exceedance probability in years."
   ]
  },
  {
   "cell_type": "code",
   "execution_count": 85,
   "metadata": {},
   "outputs": [
    {
     "name": "stdout",
     "output_type": "stream",
     "text": [
      "\n",
      "  Data variable atributes for /workspace/Shared/Tech_Projects/DOT/project_data/wrf_pcpt/fudgeci/pcpt_NCAR-CCSM4_sum_wrf_10d_2020-2049_fudgeci.nc:\n",
      "\n",
      "<xarray.DataArray 'pf' (interval: 9, yc: 4110, xc: 7639)>\n",
      "[282566610 values with dtype=float32]\n",
      "Coordinates:\n",
      "  * xc        (xc) float64 -2.176e+06 -2.176e+06 ... 1.501e+06 1.502e+06\n",
      "  * yc        (yc) float64 2.384e+06 2.384e+06 2.383e+06 ... 4.06e+05 4.055e+05\n",
      "  * interval  (interval) float64 2.0 5.0 10.0 25.0 50.0 100.0 200.0 500.0 1e+03\n",
      "Attributes:\n",
      "    long_name:     AMS-based precipitation frequency estimates\n",
      "    units:         1/1000 inches\n",
      "    grid_mapping:  crs\n"
     ]
    }
   ],
   "source": [
    "fp = out_fps[0]\n",
    "with xr.open_dataset(fp) as ds:\n",
    "    print(f\"\\n  Data variable atributes for {fp}:\\n\")\n",
    "    print(ds[list(ds.variables)[0]])"
   ]
  },
  {
   "cell_type": "markdown",
   "metadata": {},
   "source": [
    "#### Spatial reference\n",
    "\n",
    "The coordinate reference system used is EPSG:3338. The spatial attributes are saved within the dummy variable called \"crs\":"
   ]
  },
  {
   "cell_type": "code",
   "execution_count": 86,
   "metadata": {},
   "outputs": [
    {
     "name": "stdout",
     "output_type": "stream",
     "text": [
      "\n",
      "  Coordinate Reference System for /workspace/Shared/Tech_Projects/DOT/project_data/wrf_pcpt/fudgeci/pcpt_NCAR-CCSM4_sum_wrf_10d_2020-2049_fudgeci.nc:\n",
      "\n",
      "<xarray.DataArray 'crs' ()>\n",
      "array(0)\n",
      "Attributes:\n",
      "    crs_wkt:                        PROJCRS[\"NAD83 / Alaska Albers\",BASEGEOGC...\n",
      "    semi_major_axis:                6378137.0\n",
      "    semi_minor_axis:                6356752.314140356\n",
      "    inverse_flattening:             298.257222101\n",
      "    reference_ellipsoid_name:       GRS 1980\n",
      "    longitude_of_prime_meridian:    0.0\n",
      "    prime_meridian_name:            Greenwich\n",
      "    geographic_crs_name:            NAD83\n",
      "    horizontal_datum_name:          North American Datum 1983\n",
      "    projected_crs_name:             NAD83 / Alaska Albers\n",
      "    grid_mapping_name:              albers_conical_equal_area\n",
      "    standard_parallel:              [55. 65.]\n",
      "    latitude_of_projection_origin:  50.0\n",
      "    longitude_of_central_meridian:  -154.0\n",
      "    false_easting:                  0.0\n",
      "    false_northing:                 0.0\n"
     ]
    }
   ],
   "source": [
    "with xr.open_dataset(fp) as ds:\n",
    "    print(f\"\\n  Coordinate Reference System for {fp}:\\n\")\n",
    "    print(ds.crs)"
   ]
  },
  {
   "cell_type": "markdown",
   "metadata": {},
   "source": [
    "#### Attributes\n",
    "\n",
    "Other metadata are provided as global attributes in the NetCDF files:"
   ]
  },
  {
   "cell_type": "code",
   "execution_count": 87,
   "metadata": {},
   "outputs": [
    {
     "name": "stdout",
     "output_type": "stream",
     "text": [
      "  Global attributes for /workspace/Shared/Tech_Projects/DOT/project_data/wrf_pcpt/fudgeci/pcpt_NCAR-CCSM4_sum_wrf_10d_2020-2049_fudgeci.nc:\n",
      "\n",
      "Conventions CF-1.8\n",
      "institution Scenarios Network for Alaska + Arctic Planning\n",
      "contact kmredilla@alaska.edu\n",
      "history 2021-01-08 16:39:42.474983 Python\n",
      "comment Intended for use by Alaska Department of Transportation\n",
      "source_gcm NCAR-CCSM4\n",
      "source_timerange 2020-2049\n"
     ]
    }
   ],
   "source": [
    "with xr.open_dataset(fp) as ds:\n",
    "    print(f\"  Global attributes for {fp}:\\n\")\n",
    "    _ = [print(k, ds.attrs[k]) for k in ds.attrs]"
   ]
  },
  {
   "cell_type": "markdown",
   "metadata": {},
   "source": [
    "## Quality Assurance\n",
    "\n",
    "Demonstrate functionality and performance across common platforms, tools and services.\n",
    "\n",
    "### GDAL\n",
    "\n",
    "Using the ‘gdalinfo <file>’ function from command line, the file is readable and displays the file header information about the file dimensions, variables, and metadata. The Open and GetMetadata functions return non-empty values that correspond to the netCDF file contents. The GetProjection function (of the appropriate file) returns a non-empty result corresponding to the data coordinate reference system information.\n",
    "\n",
    "Here we use the Python GDAL bindings insted of the GDAL CLI."
   ]
  },
  {
   "cell_type": "code",
   "execution_count": 88,
   "metadata": {},
   "outputs": [],
   "source": [
    "def test_gdal(fp):\n",
    "    dataset = gdal.Open(fp, gdal.GA_ReadOnly)\n",
    "    \n",
    "    if dataset is not None:\n",
    "        print(\"GDALOpen successful.\")\n",
    "    else:\n",
    "        exit(f\"GDALOpen failed for {fp}\")\n",
    "    \n",
    "    print(\"Driver: {}/{}\".format(dataset.GetDriver().ShortName,\n",
    "                                dataset.GetDriver().LongName))\n",
    "    print(\"Size is {} x {} x {}\".format(dataset.RasterXSize,\n",
    "                                        dataset.RasterYSize,\n",
    "                                        dataset.RasterCount))\n",
    "    \n",
    "    projection = dataset.GetProjection()\n",
    "    if projection is not None:\n",
    "        print(f\"\\nGetProjection successful: \\n{projection}\")\n",
    "    else:\n",
    "        exit(f\"GetProjection failed for {fp}\")\n",
    "        \n",
    "    geotransform = dataset.GetGeoTransform()\n",
    "    if geotransform:\n",
    "        print(\"\\nOrigin = ({}, {})\".format(geotransform[0], geotransform[3]))\n",
    "        print(\"Pixel Size = ({}, {})\".format(geotransform[1], geotransform[5]))\n",
    "    \n",
    "    metadata = dataset.GetMetadata()\n",
    "    if metadata is not None:\n",
    "        print(\"\\nGetMetadata successful\")\n",
    "    else:\n",
    "        exit(f\"GetMetadata failed for {fp}\")"
   ]
  },
  {
   "cell_type": "code",
   "execution_count": 95,
   "metadata": {},
   "outputs": [
    {
     "name": "stdout",
     "output_type": "stream",
     "text": [
      "GDALOpen successful.\n",
      "Driver: netCDF/Network Common Data Format\n",
      "Size is 7639 x 4110 x 9\n",
      "\n",
      "GetProjection successful: \n",
      "PROJCS[\"unnamed\",GEOGCS[\"unknown\",DATUM[\"unnamed\",SPHEROID[\"Spheroid\",6378137,298.257222101]],PRIMEM[\"Greenwich\",0],UNIT[\"degree\",0.0174532925199433,AUTHORITY[\"EPSG\",\"9122\"]]],PROJECTION[\"Albers_Conic_Equal_Area\"],PARAMETER[\"latitude_of_center\",50],PARAMETER[\"longitude_of_center\",-154],PARAMETER[\"standard_parallel_1\",55],PARAMETER[\"standard_parallel_2\",65],PARAMETER[\"false_easting\",0],PARAMETER[\"false_northing\",0],UNIT[\"metre\",1,AUTHORITY[\"EPSG\",\"9001\"]],AXIS[\"Easting\",EAST],AXIS[\"Northing\",NORTH]]\n",
      "\n",
      "Origin = (-2176652.08815013, 2384357.9149669986)\n",
      "Pixel Size = (481.5495420366301, -481.5329500512789)\n",
      "\n",
      "GetMetadata successful\n"
     ]
    }
   ],
   "source": [
    "test_gdal(f\"netcdf:{fp}:pf\")"
   ]
  },
  {
   "cell_type": "markdown",
   "metadata": {},
   "source": [
    "### Python\n",
    "\n",
    "Files open with `xarray` and `rasterio`. See examples in `/tests` for more checks.\n",
    "\n",
    "### Plots, summaries, other validation.\n",
    "\n",
    "These dat ahave been thoroughly tested, see examples in `/tests`."
   ]
  },
  {
   "cell_type": "markdown",
   "metadata": {},
   "source": [
    "## Quality Control\n",
    "\n",
    "### File headers\n",
    "\n",
    "Files mostly adhere to Climate Forecasting convention. Given these data are for internal use, strict validation of CF convention adherence is not required.\n",
    "\n",
    "### Missing data\n",
    "\n",
    "Data was removed due to limitation of what was available in the NOAA Atlas 14 data. Below validates that these missing data are the same for a random subsample of the files:"
   ]
  },
  {
   "cell_type": "code",
   "execution_count": 99,
   "metadata": {},
   "outputs": [
    {
     "name": "stdout",
     "output_type": "stream",
     "text": [
      "Missing data is consistent across all files:  True\n"
     ]
    }
   ],
   "source": [
    "# all WRF output files\n",
    "\n",
    "# iterate through all time slices and find missing data indices, test all equal\n",
    "arr = np.concatenate([\n",
    "    xr.load_dataset(fp).pf.values \n",
    "    for fp in [out_fps[i] for i in [0,11,21,5]]\n",
    "])\n",
    "# iterate to compare all arrays\n",
    "iterator = iter([np.where(np.isnan(sl)) for sl in arr])\n",
    "first = next(iterator)\n",
    "result = all(np.array_equal(first, rest) for rest in iterator)\n",
    "\n",
    "print(\"Missing data is consistent across all files: \", result)"
   ]
  },
  {
   "cell_type": "markdown",
   "metadata": {},
   "source": [
    "### Consistent null values\n",
    "\n",
    "NaN was used for the missing data / null values. See `/tests/sanity_check.ipynb` for validation."
   ]
  },
  {
   "cell_type": "markdown",
   "metadata": {},
   "source": [
    "### Geospatial reference check\n",
    "\n",
    "Plot a single georeferenced time slice."
   ]
  },
  {
   "cell_type": "code",
   "execution_count": 100,
   "metadata": {},
   "outputs": [
    {
     "data": {
      "image/png": "[encoded data removed]",
      "text/plain": [
       "<Figure size 432x288 with 1 Axes>"
      ]
     },
     "metadata": {
      "needs_background": "light"
     },
     "output_type": "display_data"
    }
   ],
   "source": [
    "with rio.open(f\"netcdf:{fp}:pf\") as src:\n",
    "    show(src.read(1), transform=src.transform)"
   ]
  },
  {
   "cell_type": "markdown",
   "metadata": {},
   "source": [
    "### Outliers and value errors\n",
    "\n",
    "See \"Consistent null values\" section above. All values appear within reasonable range. See `tests/` for more checks.\n",
    "\n",
    "### Threshold exceedances\n",
    "\n",
    "See \"Consistent null values\" section above. All values appear within reasonable range. See `tests/` for more checks."
   ]
  },
  {
   "cell_type": "code",
   "execution_count": null,
   "metadata": {},
   "outputs": [],
   "source": []
  }
 ],
 "metadata": {
  "kernelspec": {
   "display_name": "Python 3",
   "language": "python",
   "name": "python3"
  },
  "language_info": {
   "codemirror_mode": {
    "name": "ipython",
    "version": 3
   },
   "file_extension": ".py",
   "mimetype": "text/x-python",
   "name": "python",
   "nbconvert_exporter": "python",
   "pygments_lexer": "ipython3",
   "version": "3.8.3"
  }
 },
 "nbformat": 4,
 "nbformat_minor": 2
}
