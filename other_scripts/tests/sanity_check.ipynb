{
 "cells": [
  {
   "cell_type": "markdown",
   "metadata": {},
   "source": [
    "# `precip-dot` data test `04`:\n",
    "## Sane values in final data\n",
    "\n",
    "Verify that estimates in the final data are sane. This means no negative estimates or confidence bounds.\n",
    "\n",
    "### inputs\n",
    "\n",
    "The path to the directory containing the output directories for all steps of the pipeline needs to be saved in the `PIPE_DIR`."
   ]
  },
  {
   "cell_type": "code",
   "execution_count": 1,
   "metadata": {},
   "outputs": [],
   "source": [
    "def sanity_check(fp):\n",
    "    \"\"\"\n",
    "    sanity check all data in a final output file\n",
    "    \"\"\"\n",
    "    def sane_values(arr):\n",
    "        arr = arr.flatten()\n",
    "        return arr[~np.isnan(arr)] >= 0\n",
    "    vars = [\"pf\", \"pf_lower\", \"pf_upper\"]\n",
    "    with xr.open_dataset(fp) as ds:\n",
    "        results = [np.all(sane_values(ds[var].values)) for var in vars]\n",
    "    return (fp, results)\n",
    "   \n",
    "    \n",
    "def run_test(data_dir):\n",
    "    \"\"\"\n",
    "    run test on output data directory\n",
    "    \"\"\"\n",
    "    print(\"Beginning test of consistent estimates in final data.\\n\")\n",
    "\n",
    "    # check on all data files\n",
    "    fps = glob.glob(os.path.join(data_dir, \"*.nc\"))\n",
    "\n",
    "    p = Pool(20)\n",
    "    results = p.map(sanity_check, fps)\n",
    "    p.close()\n",
    "    p.join()\n",
    "    \n",
    "    test_result = np.all([result[1] for result in results])\n",
    "    # print results\n",
    "    if test_result:\n",
    "        print(\"\\nTest result: PASS\")\n",
    "    else:\n",
    "        print(\"\\nTest result: FAIL\\n\")\n",
    "    \n",
    "    return results\n"
   ]
  },
  {
   "cell_type": "code",
   "execution_count": 2,
   "metadata": {},
   "outputs": [
    {
     "name": "stderr",
     "output_type": "stream",
     "text": [
      "/home/UA/kmredilla/.localpython/lib/python3.6/site-packages/pandas/compat/__init__.py:117: UserWarning: Could not import the lzma module. Your installed Python is incomplete. Attempting to use lzma compression will result in a RuntimeError.\n",
      "  warnings.warn(msg)\n"
     ]
    },
    {
     "name": "stdout",
     "output_type": "stream",
     "text": [
      "Beginning test of consistent estimates in final data.\n",
      "\n",
      "\n",
      "Test result: PASS\n",
      "Elapsed time: 3.3 m\n",
      "\n",
      "Completion time of previous test: 2020-12-11 01:43:15\n"
     ]
    }
   ],
   "source": [
    "import os, time, datetime, glob\n",
    "import numpy as np\n",
    "import xarray as xr\n",
    "from multiprocessing import Pool\n",
    "\n",
    "data_dir = os.path.join(os.getenv(\"PIPE_DIR\"), \"fudgeci\")\n",
    "\n",
    "tic = time.perf_counter()\n",
    "\n",
    "_ = run_test(data_dir)\n",
    "\n",
    "print(\"Elapsed time: {} m\\n\".format(round((time.perf_counter() - tic) / 60, 1)))\n",
    "\n",
    "utc_time = datetime.datetime.utcnow()\n",
    "print(\"Completion time of previous test: {}\".format(utc_time.strftime(\"%Y-%m-%d %H:%M:%S\")))"
   ]
  },
  {
   "cell_type": "code",
   "execution_count": null,
   "metadata": {},
   "outputs": [],
   "source": []
  }
 ],
 "metadata": {
  "kernelspec": {
   "display_name": "Python 3",
   "language": "python",
   "name": "python3"
  },
  "language_info": {
   "codemirror_mode": {
    "name": "ipython",
    "version": 3
   },
   "file_extension": ".py",
   "mimetype": "text/x-python",
   "name": "python",
   "nbconvert_exporter": "python",
   "pygments_lexer": "ipython3",
   "version": "3.6.5"
  }
 },
 "nbformat": 4,
 "nbformat_minor": 4
}
